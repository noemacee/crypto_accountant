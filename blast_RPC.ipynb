{
 "cells": [
  {
   "cell_type": "code",
   "execution_count": null,
   "metadata": {},
   "outputs": [],
   "source": [
    "import requests\n",
    "import json\n",
    "\n",
    "\n",
    "project_id = \"76ae4a83-28b3-48dc-837c-f1c6fa25dd9a\"\n",
    "\n",
    "url = \"https://starknet-mainnet.blastapi.io/\" + project_id"
   ]
  },
  {
   "cell_type": "code",
   "execution_count": 9,
   "metadata": {},
   "outputs": [],
   "source": [
    "def feed_request(url, headers, data):\n",
    "    response = requests.post(url, headers=headers, data=json.dumps(data))        # Send the POST request\n",
    "\n",
    "    if response.status_code == 200: # If the request was successful\n",
    "        result = response.json()\n",
    "        \n",
    "    else: # If the request was unsuccessful\n",
    "        print(f\"Error: {response.status_code}, {response.text}\")\n",
    "        result = None\n",
    "    \n",
    "    return result"
   ]
  },
  {
   "cell_type": "code",
   "execution_count": null,
   "metadata": {},
   "outputs": [
    {
     "name": "stdout",
     "output_type": "stream",
     "text": [
      "916128\n"
     ]
    }
   ],
   "source": [
    "\n",
    "# Define the headers\n",
    "headers = {\n",
    "    'Content-Type': 'application/json'\n",
    "}\n",
    "\n",
    "# Define the payload (same as the cURL -d parameter)\n",
    "data = {\n",
    "    \"jsonrpc\": \"2.0\",\n",
    "    \"id\": 0,\n",
    "    \"method\": \"starknet_blockNumber\"\n",
    "}\n",
    "\n",
    "result = feed_request(url, headers, data)\n",
    "\n",
    "print(result.get(\"result\"))\n"
   ]
  },
  {
   "cell_type": "markdown",
   "metadata": {},
   "source": [
    "### What is different with BlastAPI : \n",
    "\n",
    "It has access to most of the core API calls on Starknet\n",
    "\n",
    "It offers a developper API which is more user-friendly than the Starknet API"
   ]
  },
  {
   "cell_type": "code",
   "execution_count": 2,
   "metadata": {},
   "outputs": [
    {
     "name": "stdout",
     "output_type": "stream",
     "text": [
      "Wallet Token History: {'walletAddress': '0x03835178417676fa1bdb041ba8bae1510bda1d7515f4abd533e1d14ad74a06af', 'count': 5, 'historicalBalances': [{'contractAddress': '0x049d36570d4e46f48e99674bd3fcc84644ddd6b96f7c741b1562b82f9e004dc7', 'contractDecimals': '18', 'contractName': 'Ether', 'contractSymbol': 'ETH', 'balance': '4258695265060674', 'firstTransfer': {'fromAddress': '0x04c662633789a77b4ace49e0e167fccb23e87fec2ca1b4649d8aec71298dcda0', 'toAddress': '0x03835178417676fa1bdb041ba8bae1510bda1d7515f4abd533e1d14ad74a06af', 'value': '5000000000000000', 'blockHash': '0x04e2727ca5e601740b0534c067951e086f97551df8f410722ffc25ae1eb30822', 'blockNumber': 151061, 'blockTimestamp': '2023-08-12T05:28:48.000Z', 'transactionHash': '0x01984621c3d2de617c52cce289e2793e0bc7717798e51caf84444ac2215c196e'}, 'lastTransfer': {'fromAddress': '0x03835178417676fa1bdb041ba8bae1510bda1d7515f4abd533e1d14ad74a06af', 'toAddress': '0x01176a1bd84444c89232ec27754698e5d2e7e1a7f1539f12027f28b23ec9f3d8', 'value': '3342113449792', 'blockHash': '0x0010c93f933f2c6d07048f6abd2038daa42636d2beaf1365099b92a5684c7c10', 'blockNumber': 905407, 'blockTimestamp': '2024-11-16T21:39:25.000Z', 'transactionHash': '0x03c3a3357d50664081d334dfbdde78c1855e1da29aad48b1c2f17b690574c79a'}}, {'contractAddress': '0x068f5c6a61780768455de69077e07e89787839bf8166decfbf92b645209c0fb8', 'contractDecimals': '6', 'contractName': 'Tether USD', 'contractSymbol': 'USDT', 'balance': '14878243', 'firstTransfer': {'fromAddress': '0x04270219d365d6b017231b52e92b3fb5d7c8378b05e9abc97724537a80e93b0f', 'toAddress': '0x03835178417676fa1bdb041ba8bae1510bda1d7515f4abd533e1d14ad74a06af', 'value': '1020185', 'blockHash': '0x01e809def2b31a3c7545889efe6fd0a2b09c187b23b93033d341703b61116e5a', 'blockNumber': 377241, 'blockTimestamp': '2023-11-04T23:39:55.000Z', 'transactionHash': '0x075896c642e6e8667685d6ea8936ac0715d8baa08712164b1c2fe180c6143578'}, 'lastTransfer': {'fromAddress': '0x04270219d365d6b017231b52e92b3fb5d7c8378b05e9abc97724537a80e93b0f', 'toAddress': '0x03835178417676fa1bdb041ba8bae1510bda1d7515f4abd533e1d14ad74a06af', 'value': '13858058', 'blockHash': '0x007f6134153fbe968893acc97317d5b105db18adc98fc661419d971f9671dd34', 'blockNumber': 642706, 'blockTimestamp': '2024-05-22T05:33:47.000Z', 'transactionHash': '0x06d2941be401ce1c6922887d44b9755180748e4d2be6ee37fad835ec6a624384'}}, {'contractAddress': '0x03fe2b97c1fd336e750087d68b9b867997fd64a2661ff3ca5a7c771641e8e7ac', 'contractDecimals': '8', 'contractName': 'Wrapped BTC', 'contractSymbol': 'WBTC', 'balance': '0', 'firstTransfer': {'fromAddress': '0x04270219d365d6b017231b52e92b3fb5d7c8378b05e9abc97724537a80e93b0f', 'toAddress': '0x03835178417676fa1bdb041ba8bae1510bda1d7515f4abd533e1d14ad74a06af', 'value': '19850', 'blockHash': '0x007fb0618af536076a8e744e4dff9b3dd785a90e939aba82c46ae004f97c63f9', 'blockNumber': 627819, 'blockTimestamp': '2024-03-27T11:11:04.000Z', 'transactionHash': '0x0075c542f94d98cdad33e1badf614381cd049947f696cdfdc7c7cb08fe405f06'}, 'lastTransfer': {'fromAddress': '0x03835178417676fa1bdb041ba8bae1510bda1d7515f4abd533e1d14ad74a06af', 'toAddress': '0x04270219d365d6b017231b52e92b3fb5d7c8378b05e9abc97724537a80e93b0f', 'value': '19850', 'blockHash': '0x007f6134153fbe968893acc97317d5b105db18adc98fc661419d971f9671dd34', 'blockNumber': 642706, 'blockTimestamp': '2024-05-22T05:33:47.000Z', 'transactionHash': '0x06d2941be401ce1c6922887d44b9755180748e4d2be6ee37fad835ec6a624384'}}, {'contractAddress': '0x053c91253bc9682c04929ca02ed00b3e423f6710d2ee7e0d5ebb06f3ecf368a8', 'contractDecimals': '6', 'contractName': 'USD Coin', 'contractSymbol': 'USDC', 'balance': '0', 'firstTransfer': {'fromAddress': '0x000023c72abdf49dffc85ae3ede714f2168ad384cc67d08524732acea90df325', 'toAddress': '0x03835178417676fa1bdb041ba8bae1510bda1d7515f4abd533e1d14ad74a06af', 'value': '162084', 'blockHash': '0x049ff63ad1281255268b712ba8f21359dc5e40d08fd2fc4bab4b472af1e89b1d', 'blockNumber': 202745, 'blockTimestamp': '2023-09-07T13:34:55.000Z', 'transactionHash': '0x00323007d62b5b91ab4a277747724eef7c456bb0fa56ebba6b588368c9a26993'}, 'lastTransfer': {'fromAddress': '0x03835178417676fa1bdb041ba8bae1510bda1d7515f4abd533e1d14ad74a06af', 'toAddress': '0x04270219d365d6b017231b52e92b3fb5d7c8378b05e9abc97724537a80e93b0f', 'value': '13823546', 'blockHash': '0x007fb0618af536076a8e744e4dff9b3dd785a90e939aba82c46ae004f97c63f9', 'blockNumber': 627819, 'blockTimestamp': '2024-03-27T11:11:04.000Z', 'transactionHash': '0x0075c542f94d98cdad33e1badf614381cd049947f696cdfdc7c7cb08fe405f06'}}, {'contractAddress': '0x00da114221cb83fa859dbdb4c44beeaa0bb37c7537ad5ae66fe5e0efd20e6eb3', 'contractDecimals': '18', 'contractName': 'Dai Stablecoin', 'contractSymbol': 'DAI', 'balance': '0', 'firstTransfer': {'fromAddress': '0x04270219d365d6b017231b52e92b3fb5d7c8378b05e9abc97724537a80e93b0f', 'toAddress': '0x03835178417676fa1bdb041ba8bae1510bda1d7515f4abd533e1d14ad74a06af', 'value': '1275302889962649079', 'blockHash': '0x02b946e099f059b062d83a87b546bf8165546f472f919c5e84a967978af57608', 'blockNumber': 509017, 'blockTimestamp': '2024-01-17T15:01:41.000Z', 'transactionHash': '0x00d6736a63297da73b34efed5600a7e91cd33f7448de77e39b6b550023c60939'}, 'lastTransfer': {'fromAddress': '0x03835178417676fa1bdb041ba8bae1510bda1d7515f4abd533e1d14ad74a06af', 'toAddress': '0x01b6f560def289b32e2a7b0920909615531a4d9d5636ca509045843559dc23d5', 'value': '1275302889962649079', 'blockHash': '0x038d94e2b18536fb1e1bdbf509aa5be92bc484339c82272842893851dbfedcd6', 'blockNumber': 512752, 'blockTimestamp': '2024-01-21T04:57:12.000Z', 'transactionHash': '0x04e34bd86a6b233caaca85db8e4abd47a63b54e704409eba7c4607602401addc'}}]}\n"
     ]
    }
   ],
   "source": [
    "import requests\n",
    "\n",
    "# Define the API endpoint\n",
    "url = 'https://starknet-mainnet.blastapi.io/76ae4a83-28b3-48dc-837c-f1c6fa25dd9a/builder/getWalletTokenHistory'\n",
    "\n",
    "# Define the parameters (same as in the cURL request)\n",
    "params = {\n",
    "    'walletAddress': '0x03835178417676fa1bdb041ba8bae1510bda1d7515f4abd533e1d14ad74a06af'  # Replace with the actual wallet address\n",
    "}\n",
    "\n",
    "# Send the GET request with parameters\n",
    "response = requests.get(url, params=params)\n",
    "\n",
    "# Check if the response is successful\n",
    "if response.status_code == 200:\n",
    "    # Parse and print the JSON response\n",
    "    result = response.json()\n",
    "    print(\"Wallet Token History:\", result)\n",
    "else:\n",
    "    print(f\"Error: {response.status_code}, {response.text}\")\n",
    "\n"
   ]
  },
  {
   "cell_type": "code",
   "execution_count": null,
   "metadata": {},
   "outputs": [],
   "source": []
  },
  {
   "cell_type": "code",
   "execution_count": 3,
   "metadata": {},
   "outputs": [],
   "source": [
    "balance = result['historicalBalances']\n"
   ]
  },
  {
   "cell_type": "code",
   "execution_count": 4,
   "metadata": {},
   "outputs": [
    {
     "data": {
      "text/plain": [
       "5"
      ]
     },
     "execution_count": 4,
     "metadata": {},
     "output_type": "execute_result"
    }
   ],
   "source": [
    "len(balance)\n"
   ]
  },
  {
   "cell_type": "code",
   "execution_count": 5,
   "metadata": {},
   "outputs": [
    {
     "data": {
      "text/plain": [
       "{'contractAddress': '0x068f5c6a61780768455de69077e07e89787839bf8166decfbf92b645209c0fb8',\n",
       " 'contractDecimals': '6',\n",
       " 'contractName': 'Tether USD',\n",
       " 'contractSymbol': 'USDT',\n",
       " 'balance': '14878243',\n",
       " 'firstTransfer': {'fromAddress': '0x04270219d365d6b017231b52e92b3fb5d7c8378b05e9abc97724537a80e93b0f',\n",
       "  'toAddress': '0x03835178417676fa1bdb041ba8bae1510bda1d7515f4abd533e1d14ad74a06af',\n",
       "  'value': '1020185',\n",
       "  'blockHash': '0x01e809def2b31a3c7545889efe6fd0a2b09c187b23b93033d341703b61116e5a',\n",
       "  'blockNumber': 377241,\n",
       "  'blockTimestamp': '2023-11-04T23:39:55.000Z',\n",
       "  'transactionHash': '0x075896c642e6e8667685d6ea8936ac0715d8baa08712164b1c2fe180c6143578'},\n",
       " 'lastTransfer': {'fromAddress': '0x04270219d365d6b017231b52e92b3fb5d7c8378b05e9abc97724537a80e93b0f',\n",
       "  'toAddress': '0x03835178417676fa1bdb041ba8bae1510bda1d7515f4abd533e1d14ad74a06af',\n",
       "  'value': '13858058',\n",
       "  'blockHash': '0x007f6134153fbe968893acc97317d5b105db18adc98fc661419d971f9671dd34',\n",
       "  'blockNumber': 642706,\n",
       "  'blockTimestamp': '2024-05-22T05:33:47.000Z',\n",
       "  'transactionHash': '0x06d2941be401ce1c6922887d44b9755180748e4d2be6ee37fad835ec6a624384'}}"
      ]
     },
     "execution_count": 5,
     "metadata": {},
     "output_type": "execute_result"
    }
   ],
   "source": [
    "balance[1]"
   ]
  },
  {
   "cell_type": "code",
   "execution_count": null,
   "metadata": {},
   "outputs": [],
   "source": [
    "# Try to extract meaningful information from all the transactions in the wallet\n",
    "\n",
    "# Define the API endpoint\n",
    "url = 'https://starknet-mainnet.blastapi.io/76ae4a83-28b3-48dc-837c-f1c6fa25dd9a/builder/getWalletTokenHistory'\n",
    "\n",
    "# Define the parameters (same as in the cURL request)\n",
    "params = {\n",
    "    'walletAddress': '0x03835178417676fa1bdb041ba8bae1510bda1d7515f4abd533e1d14ad74a06af'  # Replace with the actual wallet address\n",
    "}\n",
    "\n",
    "# Send the GET request with parameters\n",
    "response = requests.get(url, params=params)\n",
    "\n",
    "# Check if the response is successful\n",
    "if response.status_code == 200:\n",
    "    # Parse and print the JSON response\n",
    "    result = response.json()\n",
    "    print(\"Wallet Token History:\", result)\n",
    "else:\n",
    "    print(f\"Error: {response.status_code}, {response.text}\")"
   ]
  }
 ],
 "metadata": {
  "kernelspec": {
   "display_name": "venv",
   "language": "python",
   "name": "python3"
  },
  "language_info": {
   "codemirror_mode": {
    "name": "ipython",
    "version": 3
   },
   "file_extension": ".py",
   "mimetype": "text/x-python",
   "name": "python",
   "nbconvert_exporter": "python",
   "pygments_lexer": "ipython3",
   "version": "3.10.0"
  }
 },
 "nbformat": 4,
 "nbformat_minor": 2
}
