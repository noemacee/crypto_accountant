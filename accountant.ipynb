{
 "cells": [
  {
   "cell_type": "code",
   "execution_count": 35,
   "metadata": {},
   "outputs": [
    {
     "name": "stdout",
     "output_type": "stream",
     "text": [
      "Response: {'jsonrpc': '2.0', 'error': {'code': -32602, 'message': 'Invalid Params', 'data': 'json: cannot unmarshal string into Go struct field EventsArg.from_block of type map[string]json.RawMessage'}, 'id': 1}\n"
     ]
    }
   ],
   "source": [
    "import requests\n",
    "import json\n",
    "\n",
    "\n",
    "\n",
    "# API endpoint and headers\n",
    "url = 'https://starknet.nownodes.io' # --location\n",
    "headers = {   # --header\n",
    "    'Content-Type': 'application/json',\n",
    "    'api-key': '5cc01410-53b5-4f9e-af0d-f750cfad4645'  # Replace with your actual API key\n",
    "}\n",
    "\n",
    "# Request data\n",
    "data = {    # --data\n",
    "    \"id\": 1,\n",
    "    \"jsonrpc\": \"2.0\",\n",
    "    \"method\": \"starknet_getEvents\",\n",
    "    \"params\": [{  \n",
    "        \"from_block\": \"899600\",\n",
    "        \"to_block\": \"899604\",      \n",
    "        \"address\": \"0x0307e3b6633cdddd1bd31993edcf7cf3eb2905ae650432da8a19dfb53b5bcb68\",\n",
    "    }\n",
    "    ]\n",
    "    \n",
    "}\n",
    "\n",
    "# Send the POST request\n",
    "response = requests.post(url, headers=headers, data=json.dumps(data))\n",
    "\n",
    "# Check the response status and print the result\n",
    "if response.status_code == 200:\n",
    "    print(\"Response:\", response.json())\n",
    "else:\n",
    "    print(f\"Error: {response.status_code}, {response.text}\")\n"
   ]
  }
 ],
 "metadata": {
  "kernelspec": {
   "display_name": ".venv",
   "language": "python",
   "name": "python3"
  },
  "language_info": {
   "codemirror_mode": {
    "name": "ipython",
    "version": 3
   },
   "file_extension": ".py",
   "mimetype": "text/x-python",
   "name": "python",
   "nbconvert_exporter": "python",
   "pygments_lexer": "ipython3",
   "version": "3.10.0"
  }
 },
 "nbformat": 4,
 "nbformat_minor": 2
}
