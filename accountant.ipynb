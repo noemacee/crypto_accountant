{
 "cells": [
  {
   "cell_type": "code",
   "execution_count": 1,
   "metadata": {},
   "outputs": [
    {
     "name": "stdout",
     "output_type": "stream",
     "text": [
      "Error: 401, Unknown API_key\n"
     ]
    }
   ],
   "source": [
    "import requests\n",
    "import json \n",
    "import os\n",
    "\n",
    "\n",
    "\n",
    "\n",
    "# API endpoint and headers\n",
    "url = 'https://starknet.nownodes.io' # --location\n",
    "headers = {   # --header\n",
    "    'Content-Type': 'application/json',\n",
    "    'api-key': os.getenv('API_KEY') \n",
    "}\n",
    "\n",
    "# Request data\n",
    "data = {    # --data\n",
    "    \"id\": 1,\n",
    "    \"jsonrpc\": \"2.0\",\n",
    "    \"method\": \"starknet_getEvents\",\n",
    "    \"params\": [{  \n",
    "        \"from_block\": \"899600\",\n",
    "        \"to_block\": \"899604\",      \n",
    "        \"address\": \"0x0307e3b6633cdddd1bd31993edcf7cf3eb2905ae650432da8a19dfb53b5bcb68\",\n",
    "    }\n",
    "    ]\n",
    "    \n",
    "}\n",
    "\n",
    "# Send the POST request\n",
    "response = requests.post(url, headers=headers, data=json.dumps(data))\n",
    "\n",
    "# Check the response status and print the result\n",
    "if response.status_code == 200:\n",
    "    print(\"Response:\", response.json())\n",
    "else:\n",
    "    print(f\"Error: {response.status_code}, {response.text}\")\n"
   ]
  },
  {
   "cell_type": "code",
   "execution_count": 3,
   "metadata": {},
   "outputs": [
    {
     "name": "stdout",
     "output_type": "stream",
     "text": [
      "Error: 422, Missing API_key\n"
     ]
    }
   ],
   "source": [
    "import os\n",
    "from dotenv import load_dotenv\n",
    "import requests\n",
    "import json\n",
    "\n",
    "# Load environment variables from .env file\n",
    "load_dotenv()\n",
    "\n",
    "# API endpoint and headers\n",
    "url = 'https://starknet.nownodes.io'\n",
    "headers = {\n",
    "    'Content-Type': 'application/json',\n",
    "    'x-apikey': os.getenv('API_KEY')  # Correct header based on the documentation\n",
    "}\n",
    "\n",
    "# Request data (you can modify this based on what the API expects)\n",
    "data = {\n",
    "    \"id\": 1,\n",
    "    \"jsonrpc\": \"2.0\",\n",
    "    \"method\": \"starknet_getEvents\",\n",
    "    \"params\": [{\n",
    "        \"from_block\": \"899600\",\n",
    "        \"to_block\": \"899604\",\n",
    "        \"address\": \"0x0307e3b6633cdddd1bd31993edcf7cf3eb2905ae650432da8a19dfb53b5bcb68\",\n",
    "    }]\n",
    "}\n",
    "\n",
    "# Send the POST request\n",
    "response = requests.post(url, headers=headers, data=json.dumps(data))\n",
    "\n",
    "# Check the response status and print the result\n",
    "if response.status_code == 200:\n",
    "    print(\"API Key is valid. Response:\", response.json())\n",
    "else:\n",
    "    print(f\"Error: {response.status_code}, {response.text}\")\n"
   ]
  },
  {
   "cell_type": "code",
   "execution_count": 4,
   "metadata": {},
   "outputs": [
    {
     "name": "stdout",
     "output_type": "stream",
     "text": [
      "Loaded API Key: Xjw3sFPsB9BT8JmzUsLPKUPbobGNfjt8VZ9kUH12k7qm1hkKxGlC9sAboMmDHnNg\n"
     ]
    }
   ],
   "source": [
    "import os\n",
    "from dotenv import load_dotenv\n",
    "\n",
    "# Load environment variables from .env file\n",
    "load_dotenv()\n",
    "\n",
    "# Check if the API_KEY is loaded correctly\n",
    "api_key = os.getenv('API_KEY')\n",
    "print(f\"Loaded API Key: {api_key}\")  # This should print your actual API key if it's loaded correctly\n"
   ]
  },
  {
   "cell_type": "code",
   "execution_count": null,
   "metadata": {},
   "outputs": [],
   "source": []
  }
 ],
 "metadata": {
  "kernelspec": {
   "display_name": "venv",
   "language": "python",
   "name": "python3"
  },
  "language_info": {
   "codemirror_mode": {
    "name": "ipython",
    "version": 3
   },
   "file_extension": ".py",
   "mimetype": "text/x-python",
   "name": "python",
   "nbconvert_exporter": "python",
   "pygments_lexer": "ipython3",
   "version": "3.12.3"
  }
 },
 "nbformat": 4,
 "nbformat_minor": 2
}
